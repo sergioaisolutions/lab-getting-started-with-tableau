{
 "cells": [
  {
   "cell_type": "code",
   "execution_count": 1,
   "source": [
    "import pandas as pd\r\n",
    "import numpy as np"
   ],
   "outputs": [],
   "metadata": {}
  },
  {
   "cell_type": "code",
   "execution_count": 2,
   "source": [
    "customer = pd.read_excel('files_for_lab/customer.xlsx').drop('Unnamed: 0', axis = 1)"
   ],
   "outputs": [],
   "metadata": {}
  },
  {
   "cell_type": "code",
   "execution_count": 3,
   "source": [
    "measurements = customer.select_dtypes(include = np.number)\r\n",
    "dimensions = customer.select_dtypes(include = object)"
   ],
   "outputs": [],
   "metadata": {}
  },
  {
   "cell_type": "code",
   "execution_count": 5,
   "source": [
    "print('\\nMEAUSUREMENTS IDENTIFIED IN THE DATAFRAME')\r\n",
    "print('-----------------------------------------\\n')\r\n",
    "\r\n",
    "for column in measurements.columns:\r\n",
    "    print(f'- {column}')"
   ],
   "outputs": [
    {
     "output_type": "stream",
     "name": "stdout",
     "text": [
      "\n",
      "MEAUSUREMENTS IDENTIFIED IN THE DATAFRAME\n",
      "-----------------------------------------\n",
      "\n",
      "- Customer Lifetime Value\n",
      "- Income\n",
      "- Monthly Premium Auto\n",
      "- Months Since Last Claim\n",
      "- Months Since Policy Inception\n",
      "- Number of Open Complaints\n",
      "- Number of Policies\n",
      "- Total Claim Amount\n"
     ]
    }
   ],
   "metadata": {}
  },
  {
   "cell_type": "code",
   "execution_count": 6,
   "source": [
    "print('\\nDIMENSIONS IDENTIFIED IN THE DATAFRAME')\r\n",
    "print('--------------------------------------\\n')\r\n",
    "\r\n",
    "for column in dimensions.columns:\r\n",
    "    print(f'- {column}')"
   ],
   "outputs": [
    {
     "output_type": "stream",
     "name": "stdout",
     "text": [
      "\n",
      "DIMENSIONS IDENTIFIED IN THE DATAFRAME\n",
      "--------------------------------------\n",
      "\n",
      "- Customer\n",
      "- State\n",
      "- Response\n",
      "- Coverage\n",
      "- Education\n",
      "- Effective To Date\n",
      "- EmploymentStatus\n",
      "- Gender\n",
      "- Location Code\n",
      "- Marital Status\n",
      "- Policy Type\n",
      "- Policy\n",
      "- Renew Offer Type\n",
      "- Sales Channel\n",
      "- Vehicle Class\n",
      "- Vehicle Size\n"
     ]
    }
   ],
   "metadata": {}
  }
 ],
 "metadata": {
  "orig_nbformat": 4,
  "language_info": {
   "name": "python",
   "version": "3.7.6",
   "mimetype": "text/x-python",
   "codemirror_mode": {
    "name": "ipython",
    "version": 3
   },
   "pygments_lexer": "ipython3",
   "nbconvert_exporter": "python",
   "file_extension": ".py"
  },
  "kernelspec": {
   "name": "python3",
   "display_name": "Python 3.7.6 64-bit ('ironhack_environment': venv)"
  },
  "interpreter": {
   "hash": "df81bf56b2521791aaa0ff1ac8d57256f917b61d33ad24d6b6d13191d105bbf2"
  }
 },
 "nbformat": 4,
 "nbformat_minor": 2
}